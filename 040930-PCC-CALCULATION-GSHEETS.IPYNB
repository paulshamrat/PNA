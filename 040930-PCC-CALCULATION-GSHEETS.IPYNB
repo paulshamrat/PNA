{
 "cells": [
  {
   "cell_type": "markdown",
   "metadata": {},
   "source": [
    "# 09/30/2024: Calculate PCC: from google sheets"
   ]
  },
  {
   "cell_type": "markdown",
   "metadata": {},
   "source": [
    "### 01 Access Google Sheets & Tabs *italicized text*"
   ]
  },
  {
   "cell_type": "code",
   "execution_count": null,
   "metadata": {},
   "outputs": [],
   "source": [
    "# !pip install gspread google-auth google-auth-oauthlib google-auth-httplib2\n",
    "\n",
    "import gspread\n",
    "from google.colab import auth\n",
    "from google.auth import default\n",
    "\n",
    "# Authenticate and create the client\n",
    "auth.authenticate_user()\n",
    "creds, _ = default()\n",
    "client = gspread.authorize(creds)\n",
    "\n",
    "# Open the spreadsheet by URL\n",
    "sheet = client.open_by_url('https://docs.google.com/spreadsheets/d/12DZi8qqYuKDJl90pZ6SJ2ZMzwE-Cd8Bx7LXQ9RXMnVw')\n",
    "\n",
    "# Access and print the tabs (worksheets)\n",
    "worksheet_list = sheet.worksheets()\n",
    "for worksheet in worksheet_list:\n",
    "    print(worksheet.title)\n"
   ]
  },
  {
   "cell_type": "markdown",
   "metadata": {},
   "source": [
    "# 02 Read Columns and Values: CW, CX columns\n",
    "Read specific columns from a Google Sheets tab using the gspread library. Here's a script to read the data from columns \"CW\" and \"CX\" of the tab named '10.4_DNA95':"
   ]
  },
  {
   "cell_type": "code",
   "execution_count": null,
   "metadata": {},
   "outputs": [],
   "source": [
    "# Open the specific worksheet by name\n",
    "worksheet = sheet.worksheet('10.4_DNA95')\n",
    "\n",
    "# Fetch all values from columns CW and CX\n",
    "cw_column = worksheet.col_values(101)  # CW is the 101st column\n",
    "cx_column = worksheet.col_values(102)  # CX is the 102nd column\n",
    "\n",
    "# Print the values from CW and CX\n",
    "print(\"CW Column Values:\")\n",
    "for value in cw_column:\n",
    "    print(value)\n",
    "\n",
    "print(\"\\nCX Column Values:\")\n",
    "for value in cx_column:\n",
    "    print(value)\n"
   ]
  },
  {
   "cell_type": "markdown",
   "metadata": {},
   "source": [
    "# 03 PCC calculation of CW-CX\n",
    "To calculate the Pearson Correlation Coefficient (PCC) between the values in columns \"CW\" and \"CX\", you can use Python's scipy.stats library. Here's how you can modify the code to compute the PCC:"
   ]
  },
  {
   "cell_type": "code",
   "execution_count": null,
   "metadata": {},
   "outputs": [],
   "source": [
    "# Import the necessary libraries\n",
    "import numpy as np\n",
    "from scipy.stats import pearsonr\n",
    "\n",
    "# Open the specific worksheet by name\n",
    "worksheet = sheet.worksheet('10.4_DNA95')\n",
    "\n",
    "# Fetch all values from columns CW and CX\n",
    "cw_column = worksheet.col_values(101)  # CW is the 101st column\n",
    "cx_column = worksheet.col_values(102)  # CX is the 102nd column\n",
    "\n",
    "# Convert the columns to numeric, ignoring any non-numeric values\n",
    "cw_values = []\n",
    "cx_values = []\n",
    "\n",
    "for cw, cx in zip(cw_column, cx_column):\n",
    "    try:\n",
    "        cw_val = float(cw)\n",
    "        cx_val = float(cx)\n",
    "        cw_values.append(cw_val)\n",
    "        cx_values.append(cx_val)\n",
    "    except ValueError:\n",
    "        # Ignore rows where values cannot be converted to float\n",
    "        continue\n",
    "\n",
    "# Calculate the Pearson Correlation Coefficient\n",
    "if len(cw_values) > 1 and len(cx_values) > 1:\n",
    "    pcc, _ = pearsonr(cw_values, cx_values)\n",
    "    print(f\"Pearson Correlation Coefficient (PCC) between CW and CX: {pcc}\")\n",
    "else:\n",
    "    print(\"Not enough valid data points to calculate PCC.\")\n"
   ]
  },
  {
   "cell_type": "markdown",
   "metadata": {},
   "source": [
    "# 04 PCC calculation [final]"
   ]
  },
  {
   "cell_type": "code",
   "execution_count": null,
   "metadata": {},
   "outputs": [],
   "source": [
    "# Import necessary libraries\n",
    "import numpy as np\n",
    "from scipy.stats import pearsonr\n",
    "\n",
    "def get_column_index_from_label(label):\n",
    "    \"\"\"\n",
    "    Convert a column label (e.g., 'A', 'B', ..., 'CW', 'CX') to a zero-based index.\n",
    "    \"\"\"\n",
    "    col_index = 0\n",
    "    for i, char in enumerate(reversed(label)):\n",
    "        col_index += (ord(char) - ord('A') + 1) * (26 ** i)\n",
    "    return col_index\n",
    "\n",
    "def calculate_pcc(sheet_url, tab_name, col_label_1, col_label_2):\n",
    "    \"\"\"\n",
    "    Calculate the Pearson Correlation Coefficient (PCC) between two columns in a Google Sheet tab.\n",
    "    \n",
    "    Parameters:\n",
    "    - sheet_url: Google Sheets URL.\n",
    "    - tab_name: The name of the tab (worksheet) to access.\n",
    "    - col_label_1: The label (e.g., 'CW') of the first column.\n",
    "    - col_label_2: The label (e.g., 'CX') of the second column.\n",
    "    \"\"\"\n",
    "    \n",
    "    # Authenticate and create the client (you can skip this if already authenticated)\n",
    "    auth.authenticate_user()\n",
    "    creds, _ = default()\n",
    "    client = gspread.authorize(creds)\n",
    "\n",
    "    # Open the spreadsheet by URL\n",
    "    sheet = client.open_by_url(sheet_url)\n",
    "\n",
    "    # Open the specific worksheet by name\n",
    "    worksheet = sheet.worksheet(tab_name)\n",
    "\n",
    "    # Convert column labels to 1-based indices\n",
    "    col_index_1 = get_column_index_from_label(col_label_1)\n",
    "    col_index_2 = get_column_index_from_label(col_label_2)\n",
    "\n",
    "    # Fetch all values from the specified columns\n",
    "    col_values_1 = worksheet.col_values(col_index_1)\n",
    "    col_values_2 = worksheet.col_values(col_index_2)\n",
    "\n",
    "    # Convert the columns to numeric, ignoring any non-numeric values\n",
    "    values_1 = []\n",
    "    values_2 = []\n",
    "\n",
    "    for val_1, val_2 in zip(col_values_1, col_values_2):\n",
    "        try:\n",
    "            val_1_float = float(val_1)\n",
    "            val_2_float = float(val_2)\n",
    "            values_1.append(val_1_float)\n",
    "            values_2.append(val_2_float)\n",
    "        except ValueError:\n",
    "            # Ignore rows where values cannot be converted to float\n",
    "            continue\n",
    "\n",
    "    # Check if there are enough valid data points to calculate PCC\n",
    "    if len(values_1) > 1 and len(values_2) > 1:\n",
    "        pcc, _ = pearsonr(values_1, values_2)\n",
    "        print(f\"Pearson Correlation Coefficient (PCC) between {col_label_1} and {col_label_2} in '{tab_name}' tab: {pcc}\")\n",
    "    else:\n",
    "        print(f\"Not enough valid data points to calculate PCC for columns {col_label_1} and {col_label_2}.\")\n",
    "\n",
    "# Example usage:\n",
    "sheet_url = 'https://docs.google.com/spreadsheets/d/12DZi8qqYuKDJl90pZ6SJ2ZMzwE-Cd8Bx7LXQ9RXMnVw'\n",
    "tab_name = '10.4_DNA95'  # The tab you want to work with\n",
    "col_label_1 = 'CW'  # First column label\n",
    "col_label_2 = 'CX'  # Second column label\n",
    "\n",
    "calculate_pcc(sheet_url, tab_name, col_label_1, col_label_2)\n"
   ]
  }
 ],
 "metadata": {
  "language_info": {
   "name": "python"
  }
 },
 "nbformat": 4,
 "nbformat_minor": 2
}
