{
 "cells": [
  {
   "cell_type": "markdown",
   "metadata": {},
   "source": [
    "This will verify the aa position in a PDB file, even -ve positions."
   ]
  },
  {
   "cell_type": "code",
   "execution_count": 1,
   "metadata": {},
   "outputs": [
    {
     "name": "stdout",
     "output_type": "stream",
     "text": [
      "Requirement already satisfied: biopython in /usr/local/python/3.12.1/lib/python3.12/site-packages (1.84)\n",
      "Requirement already satisfied: requests in /home/codespace/.local/lib/python3.12/site-packages (2.32.3)\n",
      "Requirement already satisfied: numpy in /home/codespace/.local/lib/python3.12/site-packages (from biopython) (2.1.0)\n",
      "Requirement already satisfied: charset-normalizer<4,>=2 in /home/codespace/.local/lib/python3.12/site-packages (from requests) (3.3.2)\n",
      "Requirement already satisfied: idna<4,>=2.5 in /home/codespace/.local/lib/python3.12/site-packages (from requests) (3.7)\n",
      "Requirement already satisfied: urllib3<3,>=1.21.1 in /home/codespace/.local/lib/python3.12/site-packages (from requests) (2.2.2)\n",
      "Requirement already satisfied: certifi>=2017.4.17 in /home/codespace/.local/lib/python3.12/site-packages (from requests) (2024.7.4)\n",
      "Downloading PDB structure '1bpx'...\n",
      "Chain A has residues from 5 to 335.\n",
      "Amino acid ASN found in chain A at position 279 in PDB ID 1BPX\n",
      "Full amino acid sequence (chain A):\n",
      "LAPGGTLAGGITAMLTGLAAPGLAVSGAIHLTAATALAASVIALTPHLILSGAGALLLPGVGTLIAGLIAGPLATGLLALLGLIAGAATSSSIAPLTAVSGIGPSAAALPVAGGILTLGALALAGALLAHHGAIGLLTPGAPGLAIPAGGMLGMGAIVLAGVLLVASGTIATVCGSPAAGAGSSGAMAVLLTHPSPTSGSTLGPLLLHGVVGGLGLVHPITATLSLGGTLPMGVCGLPSLAAGLGTPHAAIAIALIPLAGTTCGVLTPTGSAIPALAMAAHALGLGPTIAGTTIAPLGVTGVAGGPLPVASGLAIPATIGTLTAGPLAASG\n",
      "Highlighted sequence:\n",
      "LAPGGTLAGGITAMLTGLAAPGLAVSGAIHLTAATALAASVIALTPHLILSGAGALLLPGVGTLIAGLIAGPLATGLLALLGLIAGAATSSSIAPLTAVSGIGPSAAALPVAGGILTLGALALAGALLAHHGAIGLLTPGAPGLAIPAGGMLGMGAIVLAGVLLVASGTIATVCGSPAAGAGSSGAMAVLLTHPSPTSGSTLGPLLLHGVVGGLGLVHPITATLSLGGTLPMGVCGLPSLAAGLGTPHAAIAIALIPLAGTTCGVLTPTGSAIP[N]LAMAAHALGLGPTIAGTTIAPLGVTGVAGGPLPVASGLAIPATIGTLTAGPLAASG\n",
      "\n"
     ]
    }
   ],
   "source": [
    "# Step 1: Install required libraries\n",
    "!pip install biopython requests\n",
    "\n",
    "# Step 2: Import necessary libraries\n",
    "from Bio.PDB import PDBList, PDBParser\n",
    "import requests\n",
    "\n",
    "# Step 3: Function to download the PDB file\n",
    "def download_pdb(pdb_id):\n",
    "    pdbl = PDBList()\n",
    "    pdb_file = pdbl.retrieve_pdb_file(pdb_id, file_format='pdb', pdir='.')\n",
    "    return pdb_file\n",
    "\n",
    "# Step 4: Parse PDB and search for amino acid sequences\n",
    "def parse_and_find_protein_sequences(pdb_id, pdb_file, amino_acid, aa_position, results):\n",
    "    parser = PDBParser(QUIET=True)\n",
    "    structure = parser.get_structure(pdb_id, pdb_file)\n",
    "\n",
    "    amino_acid_found = False\n",
    "\n",
    "    # Mapping single-letter amino acids to PDB three-letter representation\n",
    "    amino_acid_mapping = {\n",
    "        'A': 'ALA', 'R': 'ARG', 'N': 'ASN', 'D': 'ASP', 'C': 'CYS',\n",
    "        'E': 'GLU', 'Q': 'GLN', 'G': 'GLY', 'H': 'HIS', 'I': 'ILE',\n",
    "        'L': 'LEU', 'K': 'LYS', 'M': 'MET', 'F': 'PHE', 'P': 'PRO',\n",
    "        'S': 'SER', 'T': 'THR', 'W': 'TRP', 'Y': 'TYR', 'V': 'VAL'\n",
    "    }\n",
    "\n",
    "    if amino_acid not in amino_acid_mapping:\n",
    "        results.append(f\"Invalid amino acid: {amino_acid}. Please use a valid single-letter amino acid code.\")\n",
    "        return\n",
    "\n",
    "    mapped_amino_acid = amino_acid_mapping[amino_acid]\n",
    "\n",
    "    for model in structure:\n",
    "        for chain in model:\n",
    "            pdb_positions = []\n",
    "            amino_acid_seq = []\n",
    "            start_position = None\n",
    "            end_position = None\n",
    "\n",
    "            for residue in chain:\n",
    "                if residue.resname in amino_acid_mapping.values():  # Check if residue is an amino acid\n",
    "                    if start_position is None:\n",
    "                        start_position = residue.id[1]\n",
    "                    end_position = residue.id[1]\n",
    "                    pdb_positions.append(residue.id[1])  # Residue number in PDB\n",
    "                    amino_acid_seq.append(residue.resname)\n",
    "\n",
    "            if start_position is not None and end_position is not None:\n",
    "                results.append(f\"Chain {chain.id} has residues from {start_position} to {end_position}.\")\n",
    "\n",
    "            if len(amino_acid_seq) >= len(pdb_positions):\n",
    "                try:\n",
    "                    # Find the PDB position that matches the query position\n",
    "                    pdb_index = pdb_positions.index(aa_position)\n",
    "                    if amino_acid_seq[pdb_index] == mapped_amino_acid:\n",
    "                        full_sequence = ''.join([aa[0] for aa in amino_acid_seq])  # Convert back to single-letter code for full sequence\n",
    "                        highlighted_aa_seq = ''.join([aa[0] for aa in amino_acid_seq[:pdb_index]]) + f'[{amino_acid}]' + ''.join([aa[0] for aa in amino_acid_seq[pdb_index+1:]])\n",
    "                        results.append(f\"Amino acid {mapped_amino_acid} found in chain {chain.id} at position {aa_position} in PDB ID {pdb_id}\")\n",
    "                        results.append(f\"Full amino acid sequence (chain {chain.id}):\\n{full_sequence}\")\n",
    "                        results.append(f\"Highlighted sequence:\\n{highlighted_aa_seq}\\n\")\n",
    "                        amino_acid_found = True\n",
    "                except ValueError:\n",
    "                    pass\n",
    "\n",
    "    if not amino_acid_found:\n",
    "        results.append(f\"Amino acid {amino_acid} not found at position {aa_position} in any chain of PDB ID {pdb_id}.\")\n",
    "\n",
    "# Step 5: Main function to run the analysis for a specific PDB ID\n",
    "def main(pdb_id, amino_acid, aa_position):\n",
    "    results = []\n",
    "    pdb_file = download_pdb(pdb_id)\n",
    "    parse_and_find_protein_sequences(pdb_id, pdb_file, amino_acid, aa_position, results)\n",
    "\n",
    "    # Print all results at the end\n",
    "    for result in results:\n",
    "        print(result)\n",
    "\n",
    "# Input values\n",
    "pdb_id = \"1BPX\"      # Specific PDB ID\n",
    "amino_acid = \"N\"     # Query amino acid (single-letter code)\n",
    "aa_position = 279    # Position in the protein sequence\n",
    "\n",
    "# Run the analysis\n",
    "main(pdb_id, amino_acid, aa_position)\n"
   ]
  },
  {
   "cell_type": "code",
   "execution_count": 2,
   "metadata": {},
   "outputs": [
    {
     "name": "stdout",
     "output_type": "stream",
     "text": [
      "Structure exists: './pdb1bpx.ent' \n",
      "Chain A has residues from 5 to 335.\n",
      "Amino acid ASN found in chain A at position 279 in PDB ID 1BPX\n",
      "Full amino acid sequence (chain A):\n",
      "LAPGGTLAGGITAMLTGLAAPGLAVSGAIHLTAATALAASVIALTPHLILSGAGALLLPGVGTLIAGLIAGPLATGLLALLGLIAGAATSSSIAPLTAVSGIGPSAAALPVAGGILTLGALALAGALLAHHGAIGLLTPGAPGLAIPAGGMLGMGAIVLAGVLLVASGTIATVCGSPAAGAGSSGAMAVLLTHPSPTSGSTLGPLLLHGVVGGLGLVHPITATLSLGGTLPMGVCGLPSLAAGLGTPHAAIAIALIPLAGTTCGVLTPTGSAIPALAMAAHALGLGPTIAGTTIAPLGVTGVAGGPLPVASGLAIPATIGTLTAGPLAASG\n",
      "Highlighted sequence:\n",
      "LAPGGTLAGGITAMLTGLAAPGLAVSGAIHLTAATALAASVIALTPHLILSGAGALLLPGVGTLIAGLIAGPLATGLLALLGLIAGAATSSSIAPLTAVSGIGPSAAALPVAGGILTLGALALAGALLAHHGAIGLLTPGAPGLAIPAGGMLGMGAIVLAGVLLVASGTIATVCGSPAAGAGSSGAMAVLLTHPSPTSGSTLGPLLLHGVVGGLGLVHPITATLSLGGTLPMGVCGLPSLAAGLGTPHAAIAIALIPLAGTTCGVLTPTGSAIP[N]LAMAAHALGLGPTIAGTTIAPLGVTGVAGGPLPVASGLAIPATIGTLTAGPLAASG\n",
      "\n"
     ]
    }
   ],
   "source": [
    "# Input values\n",
    "pdb_id = \"1BPX\"      # Specific PDB ID\n",
    "amino_acid = \"N\"     # Query amino acid (single-letter code)\n",
    "aa_position = 279    # Position in the protein sequence\n",
    "\n",
    "# Run the analysis\n",
    "main(pdb_id, amino_acid, aa_position)"
   ]
  }
 ],
 "metadata": {
  "language_info": {
   "name": "python"
  }
 },
 "nbformat": 4,
 "nbformat_minor": 2
}
