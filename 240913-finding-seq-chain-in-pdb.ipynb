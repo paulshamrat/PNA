{
 "cells": [
  {
   "cell_type": "code",
   "execution_count": 1,
   "metadata": {},
   "outputs": [
    {
     "name": "stdout",
     "output_type": "stream",
     "text": [
      "Collecting biopython\n",
      "  Downloading biopython-1.84-cp312-cp312-manylinux_2_17_x86_64.manylinux2014_x86_64.whl.metadata (12 kB)\n",
      "Requirement already satisfied: numpy in /home/codespace/.local/lib/python3.12/site-packages (from biopython) (2.1.0)\n",
      "Downloading biopython-1.84-cp312-cp312-manylinux_2_17_x86_64.manylinux2014_x86_64.whl (3.2 MB)\n",
      "\u001b[2K   \u001b[90m━━━━━━━━━━━━━━━━━━━━━━━━━━━━━━━━━━━━━━━━\u001b[0m \u001b[32m3.2/3.2 MB\u001b[0m \u001b[31m13.5 MB/s\u001b[0m eta \u001b[36m0:00:00\u001b[0m:00:01\u001b[0m\n",
      "\u001b[?25hInstalling collected packages: biopython\n",
      "Successfully installed biopython-1.84\n"
     ]
    }
   ],
   "source": [
    "! pip install biopython"
   ]
  },
  {
   "cell_type": "code",
   "execution_count": 15,
   "metadata": {},
   "outputs": [
    {
     "name": "stdout",
     "output_type": "stream",
     "text": [
      "Successfully downloaded 1EBM.pdb\n",
      "Chain C: GCGTCCA8OGGTCTACCCA\n",
      "Chain D: GGTAGACCTGGACGC\n",
      "Chain A: GLYSERGLUGLYHISARGTHRLEUALASERTHRPROALALEUTRPALASERILEPROCYSPROARGSERGLULEUARGLEUASPLEUVALLEUPROSERGLYGLNSERPHEARGTRPARGGLUGLNSERPROALAHISTRPSERGLYVALLEUALAASPGLNVALTRPTHRLEUTHRGLNTHRGLUGLUGLNLEUHISCYSTHRVALTYRARGSERGLNALASERARGPROTHRPROASPGLULEUGLUALAVALARGLYSTYRPHEGLNLEUASPVALTHRLEUALAGLNLEUTYRHISHISTRPGLYSERVALASPSERHISPHEGLNGLUVALALAGLNLYSPHEGLNGLYVALARGLEULEUARGGLNASPPROILEGLUCYSLEUPHESERPHEILECYSSERSERASNASNASNILEALAARGILETHRGLYMETVALGLUARGLEUCYSGLNALAPHEGLYPROARGLEUILEGLNLEUASPASPVALTHRTYRHISGLYPHEPROSERLEUGLNALALEUALAGLYPROGLUVALGLUALAHISLEUARGLYSLEUGLYLEUGLYTYRARGALAARGTYRVALSERALASERALAARGALAILELEUGLUGLUGLNGLYGLYLEUALATRPLEUGLNGLNLEUARGGLUSERSERTYRGLUGLUALAHISLYSALALEUCYSILELEUPROGLYVALGLYTHRGLNVALALAASPCYSILECYSLEUMETALALEUASPLYSPROGLNALAVALPROVALASPVALHISMETTRPHISILEALAGLNARGASPTYRSERTRPHISPROTHRTHRSERGLNALALYSGLYPROSERPROGLNTHRASNLYSGLULEUGLYASNPHEPHEARGSERLEUTRPGLYPROTYRALAGLYTRPALAGLNALAVALLEUPHESERALAASPLEUARGGLN\n"
     ]
    }
   ],
   "source": [
    "# Install Biopython if you haven't already\n",
    "# !pip install biopython\n",
    "\n",
    "import requests\n",
    "from Bio import PDB\n",
    "\n",
    "def fetch_pdb_file(pdb_id):\n",
    "    \"\"\"Fetches a PDB file from the RCSB database.\"\"\"\n",
    "    url = f\"https://files.rcsb.org/download/{pdb_id}.pdb\"\n",
    "    response = requests.get(url)\n",
    "    if response.status_code == 200:\n",
    "        with open(f\"{pdb_id}.pdb\", \"wb\") as file:\n",
    "            file.write(response.content)\n",
    "        print(f\"Successfully downloaded {pdb_id}.pdb\")\n",
    "    else:\n",
    "        print(f\"Failed to download PDB file. Status code: {response.status_code}\")\n",
    "\n",
    "def extract_dna_sequences(pdb_file):\n",
    "    \"\"\"Extracts DNA sequences from the given PDB file, excluding non-DNA residues and water molecules.\"\"\"\n",
    "    # Load the PDB structure\n",
    "    parser = PDB.PDBParser(QUIET=True)\n",
    "    structure = parser.get_structure('structure', pdb_file)\n",
    "\n",
    "    dna_sequences = {}\n",
    "\n",
    "    # Define a map for standard residue name to base\n",
    "    residue_to_base = {\n",
    "        'DA': 'A',  # Adenine\n",
    "        'DC': 'C',  # Cytosine\n",
    "        'DG': 'G',  # Guanine\n",
    "        'DT': 'T'   # Thymine\n",
    "    }\n",
    "\n",
    "    # Iterate over all models\n",
    "    for model in structure:\n",
    "        # Iterate over all chains\n",
    "        for chain in model:\n",
    "            sequence = []\n",
    "            for residue in chain:\n",
    "                res_name = residue.get_resname()\n",
    "                # Include standard DNA bases and ignore non-DNA residues and water molecules\n",
    "                if res_name in residue_to_base:\n",
    "                    sequence.append(residue_to_base[res_name])\n",
    "                elif res_name not in ['HOH', 'H2O'] and not res_name.startswith('BRU'):  # Exclude water and heteroatoms\n",
    "                    sequence.append(res_name)  # Append non-standard residues as-is\n",
    "            if sequence:\n",
    "                dna_sequences[chain.get_id()] = ''.join(sequence)\n",
    "\n",
    "    return dna_sequences\n",
    "\n",
    "# Specify the PDB ID\n",
    "pdb_id = '1EBM'\n",
    "\n",
    "# Fetch the PDB file\n",
    "fetch_pdb_file(pdb_id)\n",
    "\n",
    "# Extract DNA sequences\n",
    "dna_sequences = extract_dna_sequences(f\"{pdb_id}.pdb\")\n",
    "\n",
    "# Display the results\n",
    "for chain, sequence in dna_sequences.items():\n",
    "    print(f\"Chain {chain}: {sequence}\")\n",
    "\n"
   ]
  }
 ],
 "metadata": {
  "language_info": {
   "name": "python"
  }
 },
 "nbformat": 4,
 "nbformat_minor": 2
}
