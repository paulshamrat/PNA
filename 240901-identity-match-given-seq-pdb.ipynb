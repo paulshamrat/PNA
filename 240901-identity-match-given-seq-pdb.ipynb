{
 "cells": [
  {
   "cell_type": "code",
   "execution_count": 1,
   "metadata": {},
   "outputs": [
    {
     "name": "stdout",
     "output_type": "stream",
     "text": [
      "Requirement already satisfied: biopython in /usr/local/python/3.12.1/lib/python3.12/site-packages (1.84)\n",
      "Requirement already satisfied: numpy in /home/codespace/.local/lib/python3.12/site-packages (from biopython) (2.1.0)\n"
     ]
    }
   ],
   "source": [
    "! pip install biopython"
   ]
  },
  {
   "cell_type": "code",
   "execution_count": 2,
   "metadata": {},
   "outputs": [
    {
     "name": "stderr",
     "output_type": "stream",
     "text": [
      "/home/codespace/.python/current/lib/python3.12/site-packages/Bio/pairwise2.py:278: BiopythonDeprecationWarning: Bio.pairwise2 has been deprecated, and we intend to remove it in a future release of Biopython. As an alternative, please consider using Bio.Align.PairwiseAligner as a replacement, and contact the Biopython developers if you still need the Bio.pairwise2 module.\n",
      "  warnings.warn(\n"
     ]
    },
    {
     "name": "stdout",
     "output_type": "stream",
     "text": [
      "Downloading PDB structure '2er8'...\n",
      "Results for DNA SEQ1:\n",
      "Chain     Identity (%)   Similarity (%) PDB Sequence Aligned          Given Sequence Aligned        \n",
      "----------------------------------------------------------------------------------------------------\n",
      "E         30.00          30.00          ---------CCCGGTA-CCGGG---------AGGTGAGAGGCCGG-AACCGGCTTTTCATAT\n",
      "E         30.00          30.00          ---------CCCGGT-ACCGGG---------AGGTGAGAGGCCGG-AACCGGCTTTTCATAT\n",
      "E         30.00          30.00          ---------CCCGGTACCGGG---------AGGTGAGAGGCCGGAACCGGCTTTTCATAT\n",
      "F         30.00          30.00          ---------CCCGGTA-CCGGG---------AGGTGAGAGGCCGG-AACCGGCTTTTCATAT\n",
      "F         30.00          30.00          ---------CCCGGT-ACCGGG---------AGGTGAGAGGCCGG-AACCGGCTTTTCATAT\n",
      "F         30.00          30.00          ---------CCCGGTACCGGG---------AGGTGAGAGGCCGGAACCGGCTTTTCATAT\n",
      "G         30.00          30.00          ---------CCCGGTA-CCGGG---------AGGTGAGAGGCCGG-AACCGGCTTTTCATAT\n",
      "G         30.00          30.00          ---------CCCGGT-ACCGGG---------AGGTGAGAGGCCGG-AACCGGCTTTTCATAT\n",
      "G         30.00          30.00          ---------CCCGGTACCGGG---------AGGTGAGAGGCCGGAACCGGCTTTTCATAT\n",
      "H         30.00          30.00          ---------CCCGGTA-CCGGG---------AGGTGAGAGGCCGG-AACCGGCTTTTCATAT\n",
      "H         30.00          30.00          ---------CCCGGT-ACCGGG---------AGGTGAGAGGCCGG-AACCGGCTTTTCATAT\n",
      "H         30.00          30.00          ---------CCCGGTACCGGG---------AGGTGAGAGGCCGGAACCGGCTTTTCATAT\n",
      "\n",
      "\n",
      "Results for DNA SEQ2:\n",
      "Chain     Identity (%)   Similarity (%) PDB Sequence Aligned          Given Sequence Aligned        \n",
      "----------------------------------------------------------------------------------------------------\n",
      "\n",
      "\n"
     ]
    }
   ],
   "source": [
    "# ! pip install biopython\n",
    "from Bio import pairwise2\n",
    "from Bio.PDB import PDBList, MMCIFParser\n",
    "\n",
    "# Given DNA sequences\n",
    "dna_seq1 = \"AGGTGAGAGGCCGGAACCGGCTTTTCATAT\"\n",
    "dna_seq2 = \"\"\n",
    "\n",
    "# Function to fetch PDB file and extract sequences\n",
    "def fetch_pdb_sequences(pdb_id):\n",
    "    pdb_downloader = PDBList()\n",
    "    pdb_file = pdb_downloader.retrieve_pdb_file(pdb_id, file_format='mmCif')\n",
    "    parser = MMCIFParser(QUIET=True)\n",
    "    structure = parser.get_structure(pdb_id, pdb_file)\n",
    "\n",
    "    sequences = {}\n",
    "    for model in structure:\n",
    "        for chain in model:\n",
    "            if chain.id not in sequences:\n",
    "                sequences[chain.id] = {\"protein\": \"\", \"dna\": \"\"}\n",
    "            for residue in chain:\n",
    "                if residue.id[0] == \" \" and residue.resname in ['DA', 'DT', 'DG', 'DC']:  # Identifying DNA residues\n",
    "                    sequences[chain.id][\"dna\"] += residue.resname[1]\n",
    "    return sequences\n",
    "\n",
    "# Fetch sequences from PDB ID 5KE6\n",
    "sequences_5ke6 = fetch_pdb_sequences(\"2ER8\")\n",
    "\n",
    "# Function to check sequence matches\n",
    "def check_sequence_matches(given_sequence, pdb_sequences):\n",
    "    results = []\n",
    "    for chain_id, seq_data in pdb_sequences.items():\n",
    "        dna_seq = seq_data[\"dna\"]\n",
    "        if dna_seq:\n",
    "            alignments = pairwise2.align.localms(dna_seq, given_sequence, 2, -1, -0.5, -0.1)\n",
    "            for alignment in alignments:\n",
    "                aligned_pdb_seq, aligned_given_seq, score, start, end = alignment\n",
    "                matches = sum(1 for a, b in zip(aligned_pdb_seq, aligned_given_seq) if a == b)\n",
    "                identity = matches / len(given_sequence) * 100\n",
    "                results.append({\n",
    "                    \"chain\": chain_id,\n",
    "                    \"identity\": identity,\n",
    "                    \"similarity\": identity,  # For DNA, identity and similarity are typically the same\n",
    "                    \"pdb_aligned\": aligned_pdb_seq,\n",
    "                    \"given_aligned\": aligned_given_seq\n",
    "                })\n",
    "    return results\n",
    "\n",
    "# Check matches for both given sequences\n",
    "matches_seq1 = check_sequence_matches(dna_seq1, sequences_5ke6)\n",
    "matches_seq2 = check_sequence_matches(dna_seq2, sequences_5ke6)\n",
    "\n",
    "# Display results in a column format\n",
    "def display_results(matches, seq_label):\n",
    "    print(f\"Results for {seq_label}:\")\n",
    "    print(f\"{'Chain':<10}{'Identity (%)':<15}{'Similarity (%)':<15}{'PDB Sequence Aligned':<30}{'Given Sequence Aligned':<30}\")\n",
    "    print(\"-\" * 100)\n",
    "    for match in matches:\n",
    "        print(f\"{match['chain']:<10}{match['identity']:<15.2f}{match['similarity']:<15.2f}{match['pdb_aligned']:<30}{match['given_aligned']:<30}\")\n",
    "    print(\"\\n\")\n",
    "\n",
    "display_results(matches_seq1, \"DNA SEQ1\")\n",
    "display_results(matches_seq2, \"DNA SEQ2\")\n"
   ]
  }
 ],
 "metadata": {
  "language_info": {
   "name": "python"
  }
 },
 "nbformat": 4,
 "nbformat_minor": 2
}
